{
 "cells": [
  {
   "cell_type": "code",
   "execution_count": 1,
   "metadata": {
    "collapsed": true
   },
   "outputs": [],
   "source": [
    "# coding: utf-8\n",
    "\n",
    "import matplotlib.pyplot as plt\n",
    "import numpy as np\n",
    "from pylab import *\n",
    "%matplotlib inline\n",
    "\n",
    "class PitmanYor:\n",
    "        def __init__(self, alpha, beta):       \n",
    "                self.alpha = alpha #param of Pitman-Yor process. \n",
    "                self.beta = beta   #param of Pitman-Yor process. When beta == 0.0, it means Dirichlet Process\n",
    "                self.tables = []  #when tables[i] = j , the number of people in table i is j\n",
    "                self.tables_num = [] # when n th people get a seat , the number of tables is appended on this array's n th element\n",
    "\n",
    "        def alpha_beta_setter(self, alpha, beta):\n",
    "                self.alpha = alpha\n",
    "                self.beta = beta\n",
    "\n",
    "        def make_tables(self, sum_people):\n",
    "                self.tables = []\n",
    "                self.tables_num = []\n",
    "\n",
    "                for n in range(sum_people):\n",
    "                        tables_prob = []\n",
    "                        for p_in_table in self.tables:\n",
    "                                tables_prob.append(\n",
    "                                        (p_in_table - self.beta) / ( n + self.alpha)\n",
    "                                )\n",
    "                        tables_prob.append(\n",
    "                                (self.alpha + self.beta * len(self.tables)) / (n + self.alpha)\n",
    "                        )\n",
    "                        \n",
    "                        choosed_table = np.nonzero(np.random.multinomial(1, tables_prob))[0][0]#generate random number which follow Pitman-Yor Process(when self.beta == 0.0, Dirichlet Process)\n",
    "\n",
    "                        if choosed_table == len(self.tables):\n",
    "                                self.tables.append(1)\n",
    "                        else:\n",
    "                                self.tables[choosed_table] += 1\n",
    "                        self.tables_num.append(len(self.tables))\n",
    "\n",
    "        def get_graph_parts(self):\n",
    "                return [range(len(self.tables_num)), self.tables_num, range(len(self.tables)), self.get_sorted_tables()]\n",
    "               \n",
    "        def get_sorted_tables(self):\n",
    "                sorted_tables =self.tables.copy()\n",
    "                sorted_tables.sort()\n",
    "                sorted_tables.reverse()\n",
    "\n",
    "                return sorted_tables"
   ]
  },
  {
   "cell_type": "code",
   "execution_count": 2,
   "metadata": {
    "collapsed": false
   },
   "outputs": [
    {
     "data": {
      "text/plain": [
       "[<matplotlib.lines.Line2D at 0x10aec22b0>,\n",
       " <matplotlib.lines.Line2D at 0x10aec2470>]"
      ]
     },
     "execution_count": 2,
     "metadata": {},
     "output_type": "execute_result"
    },
    {
     "data": {
      "image/png": "[encoded data removed]",
      "text/plain": [
       "<matplotlib.figure.Figure at 0x10527d710>"
      ]
     },
     "metadata": {},
     "output_type": "display_data"
    }
   ],
   "source": [
    "crp_items = []\n",
    "crp = PitmanYor(2, 0.0)\n",
    "crp.make_tables(1000)\n",
    "crp_items.append(crp.get_graph_parts())\n",
    "\n",
    "crp.alpha_beta_setter(10, 0.0)\n",
    "crp.make_tables(1000)\n",
    "crp_items.append(crp.get_graph_parts())\n",
    "\n",
    "#show Figure11.5\n",
    "plot(crp_items[0][0], crp_items[0][1], \"b\", crp_items[1][0],crp_items[1][1], \"g\")"
   ]
  },
  {
   "cell_type": "code",
   "execution_count": 3,
   "metadata": {
    "collapsed": false
   },
   "outputs": [
    {
     "data": {
      "text/plain": [
       "[<matplotlib.lines.Line2D at 0x10af8c198>,\n",
       " <matplotlib.lines.Line2D at 0x10af8c358>]"
      ]
     },
     "execution_count": 3,
     "metadata": {},
     "output_type": "execute_result"
    },
    {
     "data": {
      "image/png": "[encoded data removed]",
      "text/plain": [
       "<matplotlib.figure.Figure at 0x105295d68>"
      ]
     },
     "metadata": {},
     "output_type": "display_data"
    }
   ],
   "source": [
    "#show Figure11.6\n",
    "plot(crp_items[0][2], crp_items[0][3], \"b\", crp_items[1][2], crp_items[1][3], \"g\")"
   ]
  },
  {
   "cell_type": "code",
   "execution_count": 4,
   "metadata": {
    "collapsed": false
   },
   "outputs": [
    {
     "data": {
      "text/plain": [
       "[<matplotlib.lines.Line2D at 0x1110a6198>,\n",
       " <matplotlib.lines.Line2D at 0x1110a6358>,\n",
       " <matplotlib.lines.Line2D at 0x1110a6cc0>,\n",
       " <matplotlib.lines.Line2D at 0x1110ad518>]"
      ]
     },
     "execution_count": 4,
     "metadata": {},
     "output_type": "execute_result"
    },
    {
     "data": {
      "image/png": "[encoded data removed]",
      "text/plain": [
       "<matplotlib.figure.Figure at 0x111060a90>"
      ]
     },
     "metadata": {},
     "output_type": "display_data"
    }
   ],
   "source": [
    "pit_items = []\n",
    "\n",
    "pit = PitmanYor(2, 0.0)\n",
    "pit.make_tables(1000)\n",
    "pit_items.append(pit.get_graph_parts())\n",
    "\n",
    "pit.alpha_beta_setter(2, 0.2)\n",
    "pit.make_tables(1000)\n",
    "pit_items.append(pit.get_graph_parts())\n",
    "\n",
    "pit.alpha_beta_setter(2, 0.3)\n",
    "pit.make_tables(1000)\n",
    "pit_items.append(pit.get_graph_parts())\n",
    "\n",
    "pit.alpha_beta_setter(2, 0.4)\n",
    "pit.make_tables(1000)\n",
    "pit_items.append(pit.get_graph_parts())\n",
    "\n",
    "#show Figure11.7\n",
    "plot(pit_items[0][0], pit_items[0][1], \"b\", pit_items[1][0], pit_items[1][1], \"g\", pit_items[2][0], pit_items[2][1], \"r\", pit_items[3][0], pit_items[3][1], \"c\" )"
   ]
  },
  {
   "cell_type": "code",
   "execution_count": 5,
   "metadata": {
    "collapsed": false
   },
   "outputs": [
    {
     "data": {
      "text/plain": [
       "[<matplotlib.lines.Line2D at 0x11117edd8>,\n",
       " <matplotlib.lines.Line2D at 0x1111b07b8>]"
      ]
     },
     "execution_count": 5,
     "metadata": {},
     "output_type": "execute_result"
    },
    {
     "data": {
      "image/png": "[encoded data removed]",
      "text/plain": [
       "<matplotlib.figure.Figure at 0x111070a20>"
      ]
     },
     "metadata": {},
     "output_type": "display_data"
    }
   ],
   "source": [
    "pit_items = []\n",
    "\n",
    "pit = PitmanYor(2, 0.0)\n",
    "pit.make_tables(1000)\n",
    "memo = pit.get_graph_parts()\n",
    "pit_items.append(memo[2])\n",
    "pit_items.append(memo[3])\n",
    "\n",
    "pit.alpha_beta_setter(2, 0.8)\n",
    "pit.make_tables(1000)\n",
    "memo = pit.get_graph_parts()\n",
    "pit_items.append(memo[2])\n",
    "pit_items.append(memo[3])\n",
    "\n",
    "#show Figure11.8(in zokupata, the number of tables is 10^5, but in this program, 1000 )\n",
    "plt.xscale(\"log\")\n",
    "plt.yscale(\"log\")  \n",
    "plot(pit_items[0], pit_items[1], \"b\", pit_items[2],pit_items[3], \"g\")"
   ]
  },
  {
   "cell_type": "code",
   "execution_count": null,
   "metadata": {
    "collapsed": true
   },
   "outputs": [],
   "source": []
  }
 ],
 "metadata": {
  "kernelspec": {
   "display_name": "Python 3",
   "language": "python",
   "name": "python3"
  },
  "language_info": {
   "codemirror_mode": {
    "name": "ipython",
    "version": 3
   },
   "file_extension": ".py",
   "mimetype": "text/x-python",
   "name": "python",
   "nbconvert_exporter": "python",
   "pygments_lexer": "ipython3",
   "version": "3.5.1"
  }
 },
 "nbformat": 4,
 "nbformat_minor": 0
}
